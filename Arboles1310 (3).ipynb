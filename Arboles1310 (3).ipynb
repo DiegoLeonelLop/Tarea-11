{
  "nbformat": 4,
  "nbformat_minor": 0,
  "metadata": {
    "colab": {
      "name": "Arboles1310.ipynb",
      "provenance": []
    },
    "kernelspec": {
      "name": "python3",
      "display_name": "Python 3"
    },
    "language_info": {
      "name": "python"
    }
  },
  "cells": [
    {
      "cell_type": "code",
      "metadata": {
        "id": "zHL5yhF9DLYv"
      },
      "source": [
        "class NodoBinario:\n",
        "    def __init__( self, value, left= None, right= None ):\n",
        "        self.data = value\n",
        "        self.left = left\n",
        "        self.right = right\n",
        "class NodoTernario:\n",
        "    def __init__(self, value, left= None, center= None , right= None):   \n",
        "        self.data = value\n",
        "        self.left = left\n",
        "        self.center = center\n",
        "        self.right = right    "
      ],
      "execution_count": 2,
      "outputs": []
    },
    {
      "cell_type": "code",
      "metadata": {
        "colab": {
          "base_uri": "https://localhost:8080/"
        },
        "id": "YWgXAF-QEhTJ",
        "outputId": "23355997-7c29-4224-f794-e1658fff627a"
      },
      "source": [
        "arbol1= NodoBinario(\"R\", NodoBinario(\"C\"), NodoBinario(\"H\"))\n",
        "print(arbol1.right.data)\n",
        "\n",
        "arbol2= NodoTernario(4, NodoTernario(3, NodoTernario(5 , left= NodoTernario(2))\\\n",
        "        , NodoTernario(5),NodoTernario(2)), None, NodoTernario(5))\n",
        "print(arbol2.left.right.data)\n",
        "print(arbol2.data)\n",
        "print(arbol2.left.center.data)\n",
        "print(arbol2.left.left.left.data)\n",
        "print(\"-------sin usar la palabra print ------\")\n",
        "ejemplo= arbol2.left.left.left.data\n",
        "print(\"----otra forma-----\")\n",
        "aux = arbol2\n",
        "while( aux.left !=None):\n",
        "    aux = aux.left\n",
        "print(aux.data)\n"
      ],
      "execution_count": 3,
      "outputs": [
        {
          "output_type": "stream",
          "name": "stdout",
          "text": [
            "H\n",
            "2\n",
            "4\n",
            "5\n",
            "2\n",
            "-------sin usar la palabra print ------\n",
            "----otra forma-----\n",
            "2\n"
          ]
        }
      ]
    },
    {
      "cell_type": "code",
      "metadata": {
        "colab": {
          "base_uri": "https://localhost:8080/"
        },
        "id": "O90cPWX5Ii6K",
        "outputId": "143134a7-3deb-429a-e1c2-0075a64c8874"
      },
      "source": [
        "root = NodoBinario(\"Santi\", None,NodoBinario(\"Jesus\",NodoBinario(\"Pedro\",None,NodoBinario(\"Pedro JR\"))))\n",
        "print(root.right.left.right.data)"
      ],
      "execution_count": 4,
      "outputs": [
        {
          "output_type": "stream",
          "name": "stdout",
          "text": [
            "Pedro JR\n"
          ]
        }
      ]
    },
    {
      "cell_type": "code",
      "metadata": {
        "id": "g6ERkOWq7fCK"
      },
      "source": [
        "class NodoBinario:\n",
        "    def __init__( self, value, left= None, right= None ):\n",
        "        self.data = value\n",
        "        self.left = left\n",
        "        self.right = right\n",
        "\n",
        "class BinarySearchTree:\n",
        "    def __init__( self ):\n",
        "        self.root = None\n",
        "    def insert( self , value ):\n",
        "        if self.root == None:\n",
        "            self.root = NodoBinario( value )\n",
        "        else:\n",
        "            self.__insert_nodo( self.root , value )\n",
        "    def __insert_nodo(self, nodo, value ): \n",
        "        if nodo.data == value:\n",
        "            pass\n",
        "        elif value < nodo.data:\n",
        "            if nodo.left == None:\n",
        "                nodo.left = NodoBinario( value )\n",
        "            else:\n",
        "                self.__insert_nodo( nodo.left , value)\n",
        "        else: #ir a la derecha\n",
        "            if nodo.right== None:\n",
        "                nodo.right = NodoBinario( value )\n",
        "            else:\n",
        "                self.__insert_nodo( nodo.right, value )\n",
        "        \n",
        "    def transversal(self, formato = \"postorden\"):\n",
        "        if formato == \"postorden\":\n",
        "            self.reocorrido_post( self.root)\n",
        "        elif formato == \"preorden\":\n",
        "            self.recorrido_pre(self.root )\n",
        "        else:#inorden\n",
        "            self.recorrido_in(self.root)\n",
        "        print()\n",
        "\n",
        "    def recorrido_post(self , nodo):\n",
        "        if nodo !=None:\n",
        "            self.recorrido_in( nodo.left )\n",
        "            self.recorrido_in( nodo.right)\n",
        "            print( str(nodo.data) , end=\" , \" )\n",
        "\n",
        "    def recorrido_pre(self, nodo ):\n",
        "        if nodo !=None:\n",
        "            print(str(nodo.data) , end=\" , \")\n",
        "            self.recorrido_pre(nodo.left)\n",
        "            self.recorrido_pre(nodo.right )\n",
        "\n",
        "    def recorrido_in(self , nodo):\n",
        "        if nodo !=None:\n",
        "            self.recorrido_in(nodo.left)\n",
        "            print(str(nodo.data), end= \" ,\")\n",
        "            self.recorrido_in(nodo.right)\n",
        "        \n",
        "    def search(self , value):\n",
        "        if self.root == None:\n",
        "            print(\"El arbol esta vacio\")\n",
        "            return None\n",
        "        else:\n",
        "            self.__search(self.root , value)\n",
        "\n",
        "    def __search(self , nodo , value ):\n",
        "        if nodo.data == None:\n",
        "            print(\"El dato no existe en el arbol\")\n",
        "            return None\n",
        "        elif nodo.data == value:\n",
        "            print(\"Encontrado\")\n",
        "            return nodo \n",
        "        elif value < nodo.data:\n",
        "            return self.__buscar(nodo.left , value )\n",
        "        else:\n",
        "            return self.__buscar(nodo.right, value)\n"
      ],
      "execution_count": 5,
      "outputs": []
    },
    {
      "cell_type": "code",
      "metadata": {
        "colab": {
          "base_uri": "https://localhost:8080/",
          "height": 366
        },
        "id": "6y1dSOumCTwM",
        "outputId": "1a04275f-c2fb-42f3-c422-d5a09e555543"
      },
      "source": [
        "arb1= BinarySearchTree()\n",
        "arb1.insert(60)\n",
        "arb1.insert(30)\n",
        "arb1.insert(15)\n",
        "arb1.insert(40)\n",
        "arb1.transversal()\n",
        "arb1.transversal(\"postorden\")\n",
        "arb1.transversal(\"preorden\")\n",
        "arb1.transversal(\"inorden\")"
      ],
      "execution_count": 6,
      "outputs": [
        {
          "output_type": "error",
          "ename": "AttributeError",
          "evalue": "ignored",
          "traceback": [
            "\u001b[0;31m---------------------------------------------------------------------------\u001b[0m",
            "\u001b[0;31mAttributeError\u001b[0m                            Traceback (most recent call last)",
            "\u001b[0;32m<ipython-input-6-693245838c78>\u001b[0m in \u001b[0;36m<module>\u001b[0;34m()\u001b[0m\n\u001b[1;32m      4\u001b[0m \u001b[0marb1\u001b[0m\u001b[0;34m.\u001b[0m\u001b[0minsert\u001b[0m\u001b[0;34m(\u001b[0m\u001b[0;36m15\u001b[0m\u001b[0;34m)\u001b[0m\u001b[0;34m\u001b[0m\u001b[0;34m\u001b[0m\u001b[0m\n\u001b[1;32m      5\u001b[0m \u001b[0marb1\u001b[0m\u001b[0;34m.\u001b[0m\u001b[0minsert\u001b[0m\u001b[0;34m(\u001b[0m\u001b[0;36m40\u001b[0m\u001b[0;34m)\u001b[0m\u001b[0;34m\u001b[0m\u001b[0;34m\u001b[0m\u001b[0m\n\u001b[0;32m----> 6\u001b[0;31m \u001b[0marb1\u001b[0m\u001b[0;34m.\u001b[0m\u001b[0mtransversal\u001b[0m\u001b[0;34m(\u001b[0m\u001b[0;34m)\u001b[0m\u001b[0;34m\u001b[0m\u001b[0;34m\u001b[0m\u001b[0m\n\u001b[0m\u001b[1;32m      7\u001b[0m \u001b[0marb1\u001b[0m\u001b[0;34m.\u001b[0m\u001b[0mtransversal\u001b[0m\u001b[0;34m(\u001b[0m\u001b[0;34m\"postorden\"\u001b[0m\u001b[0;34m)\u001b[0m\u001b[0;34m\u001b[0m\u001b[0;34m\u001b[0m\u001b[0m\n\u001b[1;32m      8\u001b[0m \u001b[0marb1\u001b[0m\u001b[0;34m.\u001b[0m\u001b[0mtransversal\u001b[0m\u001b[0;34m(\u001b[0m\u001b[0;34m\"preorden\"\u001b[0m\u001b[0;34m)\u001b[0m\u001b[0;34m\u001b[0m\u001b[0;34m\u001b[0m\u001b[0m\n",
            "\u001b[0;32m<ipython-input-5-21425dff2c8c>\u001b[0m in \u001b[0;36mtransversal\u001b[0;34m(self, formato)\u001b[0m\n\u001b[1;32m     29\u001b[0m     \u001b[0;32mdef\u001b[0m \u001b[0mtransversal\u001b[0m\u001b[0;34m(\u001b[0m\u001b[0mself\u001b[0m\u001b[0;34m,\u001b[0m \u001b[0mformato\u001b[0m \u001b[0;34m=\u001b[0m \u001b[0;34m\"postorden\"\u001b[0m\u001b[0;34m)\u001b[0m\u001b[0;34m:\u001b[0m\u001b[0;34m\u001b[0m\u001b[0;34m\u001b[0m\u001b[0m\n\u001b[1;32m     30\u001b[0m         \u001b[0;32mif\u001b[0m \u001b[0mformato\u001b[0m \u001b[0;34m==\u001b[0m \u001b[0;34m\"postorden\"\u001b[0m\u001b[0;34m:\u001b[0m\u001b[0;34m\u001b[0m\u001b[0;34m\u001b[0m\u001b[0m\n\u001b[0;32m---> 31\u001b[0;31m             \u001b[0mself\u001b[0m\u001b[0;34m.\u001b[0m\u001b[0mreocorrido_post\u001b[0m\u001b[0;34m(\u001b[0m \u001b[0mself\u001b[0m\u001b[0;34m.\u001b[0m\u001b[0mroot\u001b[0m\u001b[0;34m)\u001b[0m\u001b[0;34m\u001b[0m\u001b[0;34m\u001b[0m\u001b[0m\n\u001b[0m\u001b[1;32m     32\u001b[0m         \u001b[0;32melif\u001b[0m \u001b[0mformato\u001b[0m \u001b[0;34m==\u001b[0m \u001b[0;34m\"preorden\"\u001b[0m\u001b[0;34m:\u001b[0m\u001b[0;34m\u001b[0m\u001b[0;34m\u001b[0m\u001b[0m\n\u001b[1;32m     33\u001b[0m             \u001b[0mself\u001b[0m\u001b[0;34m.\u001b[0m\u001b[0mrecorrido_pre\u001b[0m\u001b[0;34m(\u001b[0m\u001b[0mself\u001b[0m\u001b[0;34m.\u001b[0m\u001b[0mroot\u001b[0m \u001b[0;34m)\u001b[0m\u001b[0;34m\u001b[0m\u001b[0;34m\u001b[0m\u001b[0m\n",
            "\u001b[0;31mAttributeError\u001b[0m: 'BinarySearchTree' object has no attribute 'reocorrido_post'"
          ]
        }
      ]
    },
    {
      "cell_type": "code",
      "metadata": {
        "id": "daYknua-Icjs"
      },
      "source": [
        "class BinaryNode:\n",
        "    def __init__( self , value , left=None , rigth= None ):\n",
        "        self.data = value\n",
        "        self.left = left\n",
        "        self.rigth = rigth\n",
        " \n",
        "class BinarySearchTree:\n",
        "    def __init__( self ):\n",
        "        self.root = None\n",
        "    \n",
        "    def insert( self , value ):\n",
        "        if self.root == None:\n",
        "            self.root = BinaryNode( value )\n",
        "        else:\n",
        "            self.__insert_nodo( self.root , value )\n",
        "        \n",
        "    def __insert_nodo(self , nodo , value ):\n",
        "        if nodo.data == value: \n",
        "            pass\n",
        "        elif value < nodo.data:# ir a la izq\n",
        "            if nodo.left == None:\n",
        "                nodo.left = BinaryNode( value )\n",
        "            else:\n",
        "                self.__insert_nodo( nodo.left , value )\n",
        "        else:  # ir a la derecha\n",
        "            if nodo.rigth == None:\n",
        "                nodo.rigth = BinaryNode( value )\n",
        "            else:\n",
        "                self.__insert_nodo( nodo.rigth , value )\n",
        "    \n",
        "    def transversal( self , formato = \"posorden\"):\n",
        "        if formato == \"posorden\":\n",
        "            self.recorrido_pos( self.root )\n",
        "        elif formato == \"preorden\":\n",
        "            self.recorrido_pre(self.root )\n",
        "        else: # inorden\n",
        "            self.recorrido_in( self.root )\n",
        "        print()\n",
        " \n",
        "    def  recorrido_pos( self , nodo ):\n",
        "        if nodo != None:\n",
        "            self.recorrido_pos( nodo.left )\n",
        "            self.recorrido_pos( nodo.rigth )\n",
        "            print( str(nodo.data) , end=\" , \" )\n",
        "    \n",
        "    def  recorrido_pre( self , nodo ):\n",
        "        if nodo != None:\n",
        "            print( str(nodo.data) , end=\" , \" )\n",
        "            self.recorrido_pre( nodo.left )\n",
        "            self.recorrido_pre( nodo.rigth )\n",
        "    \n",
        "    def  recorrido_in( self , nodo ):\n",
        "        if nodo != None:\n",
        "            self.recorrido_in( nodo.left )\n",
        "            print( str(nodo.data) , end=\" , \" )\n",
        "            self.recorrido_in( nodo.rigth ) \n",
        " \n",
        "    def search( self , value ):\n",
        "        if self.root == None:\n",
        "            print(\"El árbol está vacío\")\n",
        "            return None\n",
        "        else:\n",
        "            return self.__search( self.root , value )\n",
        " \n",
        "    def __search( self , nodo , value ):\n",
        "        if nodo == None:\n",
        "            print(\"El dato no existe en el árbol\") \n",
        "            return None\n",
        "        elif nodo.data == value:\n",
        "            print(\"Encontrado\", nodo.data)\n",
        "            return nodo\n",
        "        elif value < nodo.data:\n",
        "            return self.__search( nodo.left , value  )\n",
        "        else:\n",
        "            return self.__search( nodo.rigth , value  )  \n"
      ],
      "execution_count": 7,
      "outputs": []
    },
    {
      "cell_type": "code",
      "metadata": {
        "colab": {
          "base_uri": "https://localhost:8080/",
          "height": 366
        },
        "id": "XQJjTFfsLyUc",
        "outputId": "3655728b-4e6a-4f3c-ce53-95a07ecb5164"
      },
      "source": [
        "abb= BinarySearchTree()\n",
        "abb.insert(30)\n",
        "abb.insert(15)\n",
        "abb.insert(45)\n",
        "abb.insert(12)\n",
        "abb.insert(17)\n",
        "abb.insert(50)\n",
        "abb.insert(55)\n",
        "abb.insert(35)\n",
        "abb.insert(2)\n",
        "abb.insert(1)\n",
        "abb.insert(80)\n",
        "abb.insert(60)\n",
        "abb.transversal(\"posorden\")\n",
        "abb.transversal(\"preorden\")\n",
        "abb.transversal(\"inorden\")\n",
        "res = abb.search(45)\n",
        "print(res)  #imprime referencia de mem del nodo resultante\n",
        "print(res.data)#45\n",
        "print(res.left.data)\n",
        "#Tarea implementar la eliminscion \n",
        "#reutilizar la logica de la busqueda y cuando se encuentre se va a dterminar cual de los 3 se va a elimanr\n",
        "abb.delete(60)\n",
        "abb.delete(12)\n",
        "print(abb.__str__())\n"
      ],
      "execution_count": 11,
      "outputs": [
        {
          "output_type": "stream",
          "name": "stdout",
          "text": [
            "1 , 2 , 12 , 17 , 15 , 35 , 60 , 80 , 55 , 50 , 45 , 30 , \n",
            "30 , 15 , 12 , 2 , 1 , 17 , 45 , 35 , 50 , 55 , 80 , 60 , \n",
            "1 , 2 , 12 , 15 , 17 , 30 , 35 , 45 , 50 , 55 , 60 , 80 , \n",
            "Encontrado 45\n",
            "<__main__.BinaryNode object at 0x7f3c1de1b210>\n",
            "45\n",
            "35\n"
          ]
        },
        {
          "output_type": "error",
          "ename": "AttributeError",
          "evalue": "ignored",
          "traceback": [
            "\u001b[0;31m---------------------------------------------------------------------------\u001b[0m",
            "\u001b[0;31mAttributeError\u001b[0m                            Traceback (most recent call last)",
            "\u001b[0;32m<ipython-input-11-87e52d9c2267>\u001b[0m in \u001b[0;36m<module>\u001b[0;34m()\u001b[0m\n\u001b[1;32m     21\u001b[0m \u001b[0;31m#Tarea implementar la eliminscion\u001b[0m\u001b[0;34m\u001b[0m\u001b[0;34m\u001b[0m\u001b[0;34m\u001b[0m\u001b[0m\n\u001b[1;32m     22\u001b[0m \u001b[0;31m#reutilizar la logica de la busqueda y cuando se encuentre se va a dterminar cual de los 3 se va a elimanr\u001b[0m\u001b[0;34m\u001b[0m\u001b[0;34m\u001b[0m\u001b[0;34m\u001b[0m\u001b[0m\n\u001b[0;32m---> 23\u001b[0;31m \u001b[0mabb\u001b[0m\u001b[0;34m.\u001b[0m\u001b[0mdelete\u001b[0m\u001b[0;34m(\u001b[0m\u001b[0;36m60\u001b[0m\u001b[0;34m)\u001b[0m\u001b[0;34m\u001b[0m\u001b[0;34m\u001b[0m\u001b[0m\n\u001b[0m\u001b[1;32m     24\u001b[0m \u001b[0mabb\u001b[0m\u001b[0;34m.\u001b[0m\u001b[0mdelete\u001b[0m\u001b[0;34m(\u001b[0m\u001b[0;36m12\u001b[0m\u001b[0;34m)\u001b[0m\u001b[0;34m\u001b[0m\u001b[0;34m\u001b[0m\u001b[0m\n\u001b[1;32m     25\u001b[0m \u001b[0mprint\u001b[0m\u001b[0;34m(\u001b[0m\u001b[0mabb\u001b[0m\u001b[0;34m.\u001b[0m\u001b[0m__str__\u001b[0m\u001b[0;34m(\u001b[0m\u001b[0;34m)\u001b[0m\u001b[0;34m)\u001b[0m\u001b[0;34m\u001b[0m\u001b[0;34m\u001b[0m\u001b[0m\n",
            "\u001b[0;31mAttributeError\u001b[0m: 'BinarySearchTree' object has no attribute 'delete'"
          ]
        }
      ]
    }
  ]
}